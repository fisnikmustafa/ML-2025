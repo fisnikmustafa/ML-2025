{
 "cells": [
  {
   "cell_type": "code",
   "execution_count": 1,
   "id": "b16c7555-1eac-4a0e-a1fe-a79b1b8dfa90",
   "metadata": {},
   "outputs": [
    {
     "name": "stdout",
     "output_type": "stream",
     "text": [
      "   User ID        date  age gender  Height (cm)_x  Weight (kg)_x  \\\n",
      "0        1  2024-01-01   56      F          165.3           53.7   \n",
      "1        1  2024-01-04   56      F          165.3           53.9   \n",
      "2        1  2024-01-05   56      F          165.3           54.2   \n",
      "3        1  2024-01-07   56      F          165.3           54.4   \n",
      "4        1  2024-01-09   56      F          165.3           54.7   \n",
      "\n",
      "     activity_type  duration_minutes intensity  calories_burned  ...  \\\n",
      "0          Dancing                41       Low              3.3  ...   \n",
      "1         Swimming                28       Low              2.9  ...   \n",
      "2         Swimming                21    Medium              2.6  ...   \n",
      "3  Weight Training                99    Medium             10.7  ...   \n",
      "4         Swimming               100    Medium             12.7  ...   \n",
      "\n",
      "   Distance (km)  Workout Intensity  Sleep Hours  Water Intake (liters)  \\\n",
      "0          14.44               High          8.2                    1.9   \n",
      "1          14.44               High          8.2                    1.9   \n",
      "2          14.44               High          8.2                    1.9   \n",
      "3          14.44               High          8.2                    1.9   \n",
      "4          14.44               High          8.2                    1.9   \n",
      "\n",
      "   Daily Calories Intake  Resting Heart Rate (bpm)  VO2 Max  Body Fat (%)  \\\n",
      "0                   3195                        61     38.4          28.5   \n",
      "1                   3195                        61     38.4          28.5   \n",
      "2                   3195                        61     38.4          28.5   \n",
      "3                   3195                        61     38.4          28.5   \n",
      "4                   3195                        61     38.4          28.5   \n",
      "\n",
      "   Mood Before Workout Mood After Workout  \n",
      "0                Tired           Fatigued  \n",
      "1                Tired           Fatigued  \n",
      "2                Tired           Fatigued  \n",
      "3                Tired           Fatigued  \n",
      "4                Tired           Fatigued  \n",
      "\n",
      "[5 rows x 41 columns]\n"
     ]
    }
   ],
   "source": [
    "import pandas as pd\n",
    "\n",
    "# Load both datasets\n",
    "health_fitness_df = pd.read_csv('DataSets/health_fitness_dataset.csv')\n",
    "workout_fitness_df = pd.read_csv('DataSets/workout_fitness_tracker_data.csv')\n",
    "\n",
    "# Renaming participant_id in health_fitness_df to User ID for consistency\n",
    "health_fitness_df.rename(columns={'participant_id': 'User ID', 'height_cm': 'Height (cm)', 'weight_kg': 'Weight (kg)'}, inplace=True)\n",
    "\n",
    "# Merging datasets on 'User ID'\n",
    "merged_df = pd.merge(health_fitness_df, workout_fitness_df, on='User ID', how='inner')\n",
    "\n",
    "# Check the merged data\n",
    "print(merged_df.head())"
   ]
  },
  {
   "cell_type": "code",
   "execution_count": 2,
   "id": "b4e0793d-82a2-4292-af87-0c62e073bd31",
   "metadata": {},
   "outputs": [
    {
     "name": "stdout",
     "output_type": "stream",
     "text": [
      "User ID                          0\n",
      "date                             0\n",
      "age                              0\n",
      "gender                           0\n",
      "Height (cm)_x                    0\n",
      "Weight (kg)_x                    0\n",
      "activity_type                    0\n",
      "duration_minutes                 0\n",
      "intensity                        0\n",
      "calories_burned                  0\n",
      "avg_heart_rate                   0\n",
      "hours_sleep                      0\n",
      "stress_level                     0\n",
      "daily_steps                      0\n",
      "hydration_level                  0\n",
      "bmi                              0\n",
      "resting_heart_rate               0\n",
      "blood_pressure_systolic          0\n",
      "blood_pressure_diastolic         0\n",
      "health_condition            490275\n",
      "smoking_status                   0\n",
      "fitness_level                    0\n",
      "Age                              0\n",
      "Gender                           0\n",
      "Height (cm)_y                    0\n",
      "Weight (kg)_y                    0\n",
      "Workout Type                     0\n",
      "Workout Duration (mins)          0\n",
      "Calories Burned                  0\n",
      "Heart Rate (bpm)                 0\n",
      "Steps Taken                      0\n",
      "Distance (km)                    0\n",
      "Workout Intensity                0\n",
      "Sleep Hours                      0\n",
      "Water Intake (liters)            0\n",
      "Daily Calories Intake            0\n",
      "Resting Heart Rate (bpm)         0\n",
      "VO2 Max                          0\n",
      "Body Fat (%)                     0\n",
      "Mood Before Workout              0\n",
      "Mood After Workout               0\n",
      "dtype: int64\n"
     ]
    }
   ],
   "source": [
    "# Checking missing values\n",
    "print(merged_df.isnull().sum())"
   ]
  },
  {
   "cell_type": "code",
   "execution_count": 3,
   "id": "4afabe68-c724-4cd0-b0dd-0aca4e3fd4f6",
   "metadata": {},
   "outputs": [
    {
     "name": "stdout",
     "output_type": "stream",
     "text": [
      "User ID                       int64\n",
      "date                         object\n",
      "age                           int64\n",
      "gender                       object\n",
      "Height (cm)_x               float64\n",
      "Weight (kg)_x               float64\n",
      "activity_type                object\n",
      "duration_minutes              int64\n",
      "intensity                    object\n",
      "calories_burned             float64\n",
      "avg_heart_rate                int64\n",
      "hours_sleep                 float64\n",
      "stress_level                  int64\n",
      "daily_steps                   int64\n",
      "hydration_level             float64\n",
      "bmi                         float64\n",
      "resting_heart_rate          float64\n",
      "blood_pressure_systolic     float64\n",
      "blood_pressure_diastolic    float64\n",
      "health_condition             object\n",
      "smoking_status               object\n",
      "fitness_level               float64\n",
      "Age                           int64\n",
      "Gender                       object\n",
      "Height (cm)_y                 int64\n",
      "Weight (kg)_y                 int64\n",
      "Workout Type                 object\n",
      "Workout Duration (mins)       int64\n",
      "Calories Burned               int64\n",
      "Heart Rate (bpm)              int64\n",
      "Steps Taken                   int64\n",
      "Distance (km)               float64\n",
      "Workout Intensity            object\n",
      "Sleep Hours                 float64\n",
      "Water Intake (liters)       float64\n",
      "Daily Calories Intake         int64\n",
      "Resting Heart Rate (bpm)      int64\n",
      "VO2 Max                     float64\n",
      "Body Fat (%)                float64\n",
      "Mood Before Workout          object\n",
      "Mood After Workout           object\n",
      "Weight (kg)                 float64\n",
      "Height (cm)                 float64\n",
      "dtype: object\n"
     ]
    }
   ],
   "source": [
    "# Convert necessary columns to numeric values (if they are not already)\n",
    "merged_df['Age'] = pd.to_numeric(merged_df['Age'], errors='coerce')\n",
    "merged_df['Weight (kg)'] = pd.to_numeric(merged_df['Weight (kg)_x'], errors='coerce')\n",
    "merged_df['Height (cm)'] = pd.to_numeric(merged_df['Height (cm)_x'], errors='coerce')\n",
    "\n",
    "# Check if all data types are correct\n",
    "print(merged_df.dtypes)"
   ]
  },
  {
   "cell_type": "code",
   "execution_count": 4,
   "id": "e65a4425-ab4b-4f71-9bd1-53dc6c14ebe6",
   "metadata": {},
   "outputs": [
    {
     "name": "stdout",
     "output_type": "stream",
     "text": [
      "        User ID  Weight (kg)  Height (cm)   bmi  bmi_calculated\n",
      "0             1         53.7        165.3  19.6       19.652988\n",
      "1             1         53.9        165.3  19.6       19.726183\n",
      "2             1         54.2        165.3  19.6       19.835976\n",
      "3             1         54.4        165.3  19.6       19.909172\n",
      "4             1         54.7        165.3  19.6       20.018965\n",
      "...         ...          ...          ...   ...             ...\n",
      "687696     3000        112.9        165.7  20.7       41.119604\n",
      "687697     3000        113.1        165.7  20.7       41.192447\n",
      "687698     3000        113.4        165.7  20.7       41.301710\n",
      "687699     3000        113.6        165.7  20.7       41.374553\n",
      "687700     3000        113.9        165.7  20.7       41.483817\n",
      "\n",
      "[687701 rows x 5 columns]\n"
     ]
    }
   ],
   "source": [
    "# Calculate BMI if it's missing using the formula BMI = Weight (kg) / (Height (m))^2\n",
    "merged_df['bmi_calculated'] = merged_df['Weight (kg)'] / (merged_df['Height (cm)'] / 100) ** 2\n",
    "\n",
    "# Fill the missing 'bmi' column with the calculated BMI values, if it's missing\n",
    "merged_df['bmi'] = merged_df['bmi'].fillna(merged_df['bmi_calculated'])\n",
    "\n",
    "# Set Pandas to display more rows (adjust the number as needed)\n",
    "pd.set_option('display.max_rows', 100)  # Change 100 to a number that fits your dataset\n",
    "\n",
    "# Now print the relevant columns\n",
    "print(merged_df[['User ID', 'Weight (kg)', 'Height (cm)', 'bmi', 'bmi_calculated']])\n",
    "\n"
   ]
  },
  {
   "cell_type": "code",
   "execution_count": null,
   "id": "32921e22-ffcf-49a6-9a6a-6962075b00c5",
   "metadata": {},
   "outputs": [],
   "source": []
  }
 ],
 "metadata": {
  "kernelspec": {
   "display_name": "Python 3 (ipykernel)",
   "language": "python",
   "name": "python3"
  },
  "language_info": {
   "codemirror_mode": {
    "name": "ipython",
    "version": 3
   },
   "file_extension": ".py",
   "mimetype": "text/x-python",
   "name": "python",
   "nbconvert_exporter": "python",
   "pygments_lexer": "ipython3",
   "version": "3.10.12"
  }
 },
 "nbformat": 4,
 "nbformat_minor": 5
}
