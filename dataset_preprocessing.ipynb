{
 "cells": [
  {
   "cell_type": "code",
   "execution_count": 1,
   "id": "f69bf1f9-5ffd-4ca6-a152-b8d9bbff1ef4",
   "metadata": {},
   "outputs": [
    {
     "name": "stdout",
     "output_type": "stream",
     "text": [
      "✅ Matching completed (including 'Other' category)! Data saved as merged_dataset.csv\n"
     ]
    }
   ],
   "source": [
    "from scipy.spatial import KDTree\n",
    "import pandas as pd\n",
    "import numpy as np\n",
    "from sklearn.preprocessing import MinMaxScaler\n",
    "\n",
    "# Load datasets\n",
    "dataset1 = pd.read_csv(\"data/workout_fitness_tracker_data.csv\")\n",
    "dataset2 = pd.read_csv(\"data/health_fitness_dataset.csv\")\n",
    "\n",
    "dataset1[\"BMI\"] = dataset1[\"Weight (kg)\"] / ((dataset1[\"Height (cm)\"] / 100) ** 2)\n",
    "\n",
    "# Standardize Gender Labels\n",
    "gender_map = {\"Male\": \"M\", \"Female\": \"F\", \"Other\": \"Other\"}  # Keep \"Other\"\n",
    "dataset1[\"Gender\"] = dataset1[\"Gender\"].map(gender_map)\n",
    "\n",
    "# Rename Dataset 2 columns for consistency\n",
    "dataset2 = dataset2.rename(columns={\n",
    "    \"age\": \"Age\",\n",
    "    \"height_cm\": \"Height (cm)\",\n",
    "    \"weight_kg\": \"Weight (kg)\",\n",
    "    \"resting_heart_rate\": \"Resting Heart Rate (bpm)\",\n",
    "    \"bmi\": \"BMI\",\n",
    "    \"gender\": \"Gender\"\n",
    "})\n",
    "\n",
    "# Define matching features & their weights\n",
    "features = [\"Age\", \"Height (cm)\", \"Weight (kg)\", \"Resting Heart Rate (bpm)\", \"BMI\"]\n",
    "feature_weights = np.array([1, 1, 1, 3, 3])  # More weight for Resting HR & BMI\n",
    "\n",
    "# Separate \"Other\" from gender-based matching\n",
    "gender_groups = [\"M\", \"F\"]\n",
    "merged_dataframes = []\n",
    "\n",
    "for gender in gender_groups:  # Match \"M\" to \"M\" and \"F\" to \"F\"\n",
    "    ds1_filtered = dataset1[dataset1[\"Gender\"] == gender].copy()\n",
    "    ds2_filtered = dataset2[dataset2[\"Gender\"] == gender].copy()\n",
    "\n",
    "    if ds2_filtered.empty or ds1_filtered.empty:\n",
    "        print(f\"⚠️ No matching users found in Dataset 2 for gender: {gender}\")\n",
    "        continue\n",
    "\n",
    "    # Extract & normalize features\n",
    "    scaler = MinMaxScaler()\n",
    "    ds1_scaled = scaler.fit_transform(ds1_filtered[features]) * feature_weights\n",
    "    ds2_scaled = scaler.transform(ds2_filtered[features]) * feature_weights\n",
    "\n",
    "    # KD-Tree for nearest-neighbor search\n",
    "    kd_tree = KDTree(ds2_scaled)\n",
    "    distances, best_matches = kd_tree.query(ds1_scaled, k=1)\n",
    "\n",
    "    # Merge results\n",
    "    best_match_df = ds2_filtered.iloc[best_matches].reset_index(drop=True)\n",
    "    merged_df = ds1_filtered.reset_index(drop=True).copy()\n",
    "\n",
    "    # Keep Dataset 1 values and add only unique columns from Dataset 2\n",
    "    ds2_unique_cols = [col for col in dataset2.columns if col not in dataset1.columns]\n",
    "    merged_df[ds2_unique_cols] = best_match_df[ds2_unique_cols].values\n",
    "    merged_df[\"Match Distance\"] = distances  # Lower = better match\n",
    "\n",
    "    merged_dataframes.append(merged_df)\n",
    "\n",
    "# Handle \"Other\" separately (match based on closest features, ignoring gender)\n",
    "ds1_other = dataset1[dataset1[\"Gender\"] == \"Other\"].copy()\n",
    "if not ds1_other.empty:\n",
    "    scaler = MinMaxScaler()\n",
    "    ds1_other_scaled = scaler.fit_transform(ds1_other[features]) * feature_weights\n",
    "    ds2_all_scaled = scaler.transform(dataset2[features]) * feature_weights  # Match to all dataset2 users\n",
    "\n",
    "    kd_tree = KDTree(ds2_all_scaled)\n",
    "    distances, best_matches = kd_tree.query(ds1_other_scaled, k=1)\n",
    "\n",
    "    best_match_df = dataset2.iloc[best_matches].reset_index(drop=True)\n",
    "    merged_other = ds1_other.reset_index(drop=True).copy()\n",
    "\n",
    "    # Add unique columns from Dataset 2\n",
    "    merged_other[ds2_unique_cols] = best_match_df[ds2_unique_cols].values\n",
    "    merged_other[\"Match Distance\"] = distances  # Lower = better match\n",
    "\n",
    "    merged_dataframes.append(merged_other)\n",
    "\n",
    "# Combine results\n",
    "final_merged_dataset = pd.concat(merged_dataframes, ignore_index=True)\n",
    "\n",
    "# Save final dataset\n",
    "final_merged_dataset.to_csv(\"merged_dataset_filter_by_gender3.csv\", index=False)\n",
    "\n",
    "print(\"✅ Matching completed (including 'Other' category)! Data saved as merged_dataset.csv\")"
   ]
  },
  {
   "cell_type": "code",
   "execution_count": null,
   "id": "14ad415c-c3f4-4667-b54c-9a4b3921941e",
   "metadata": {},
   "outputs": [],
   "source": []
  },
  {
   "cell_type": "code",
   "execution_count": 2,
   "id": "045cc6a1-aa4b-4085-8961-41c4662a0121",
   "metadata": {},
   "outputs": [
    {
     "name": "stdout",
     "output_type": "stream",
     "text": [
      "Index(['User ID', 'Age', 'Gender', 'Height (cm)', 'Weight (kg)',\n",
      "       'Workout Type', 'Workout Duration (mins)', 'Calories Burned',\n",
      "       'Heart Rate (bpm)', 'Steps Taken', 'Distance (km)', 'Workout Intensity',\n",
      "       'Sleep Hours', 'Water Intake (liters)', 'Daily Calories Intake',\n",
      "       'Resting Heart Rate (bpm)', 'VO2 Max', 'Body Fat (%)',\n",
      "       'Mood Before Workout', 'Mood After Workout', 'BMI', 'participant_id',\n",
      "       'date', 'activity_type', 'duration_minutes', 'intensity',\n",
      "       'calories_burned', 'avg_heart_rate', 'hours_sleep', 'stress_level',\n",
      "       'daily_steps', 'hydration_level', 'blood_pressure_systolic',\n",
      "       'blood_pressure_diastolic', 'health_condition', 'smoking_status',\n",
      "       'fitness_level', 'Match Distance'],\n",
      "      dtype='object')\n"
     ]
    }
   ],
   "source": [
    "print(final_merged_dataset.columns)"
   ]
  },
  {
   "cell_type": "code",
   "execution_count": 6,
   "id": "ea2253a2-ee46-4793-9c0a-28423d3e9ef3",
   "metadata": {},
   "outputs": [
    {
     "name": "stdout",
     "output_type": "stream",
     "text": [
      "Index(['User ID', 'Age', 'Gender', 'Height (cm)', 'Weight (kg)',\n",
      "       'Workout Type', 'Workout Duration (mins)', 'Calories Burned',\n",
      "       'Heart Rate (bpm)', 'Steps Taken', 'Distance (km)', 'Workout Intensity',\n",
      "       'Sleep Hours', 'Water Intake (liters)', 'Daily Calories Intake',\n",
      "       'Resting Heart Rate (bpm)', 'VO2 Max', 'Body Fat (%)',\n",
      "       'Mood Before Workout', 'Mood After Workout', 'BMI', 'stress_level',\n",
      "       'blood_pressure_systolic', 'blood_pressure_diastolic',\n",
      "       'health_condition', 'smoking_status'],\n",
      "      dtype='object')\n"
     ]
    }
   ],
   "source": [
    "\n",
    "final_merged_dataset = final_merged_dataset.drop(columns=['duration_minutes', 'calories_burned', 'avg_heart_rate', \n",
    "                      'daily_steps', 'Match Distance', 'hours_sleep', \n",
    "                      'hydration_level', 'intensity', 'participant_id', 'date', 'activity_type', 'fitness_level'])\n",
    "\n",
    "# Display the updated DataFrame\n",
    "print(final_merged_dataset.columns)"
   ]
  },
  {
   "cell_type": "code",
   "execution_count": 7,
   "id": "7971783d-c803-4547-a42e-8ed04f982190",
   "metadata": {},
   "outputs": [
    {
     "name": "stdout",
     "output_type": "stream",
     "text": [
      "Index(['User ID', 'Age', 'Gender', 'Height (cm)', 'Weight (kg)',\n",
      "       'Workout Type', 'Workout Duration (mins)', 'Calories Burned',\n",
      "       'Heart Rate (bpm)', 'Steps Taken', 'Distance (km)', 'Workout Intensity',\n",
      "       'Sleep Hours', 'Water Intake (liters)', 'Daily Calories Intake',\n",
      "       'Resting Heart Rate (bpm)', 'VO2 Max', 'Body Fat (%)',\n",
      "       'Mood Before Workout', 'Mood After Workout', 'BMI', 'Stress Level',\n",
      "       'Blood Pressure Systolic', 'Blood Pressure Diastolic',\n",
      "       'Health Condition', 'Smoking Status'],\n",
      "      dtype='object')\n"
     ]
    }
   ],
   "source": [
    "final_merged_dataset.rename(columns={\n",
    "    'stress_level': 'Stress Level',\n",
    "    'blood_pressure_systolic': 'Blood Pressure Systolic',\n",
    "    'blood_pressure_diastolic': 'Blood Pressure Diastolic',\n",
    "    'health_condition': 'Health Condition',\n",
    "    'smoking_status': 'Smoking Status'\n",
    "}, inplace=True)\n",
    "\n",
    "# Display the updated DataFrame\n",
    "print(final_merged_dataset.columns)"
   ]
  },
  {
   "cell_type": "code",
   "execution_count": null,
   "id": "9dd3a09a-88ad-49f1-ba88-93c000d727f8",
   "metadata": {},
   "outputs": [],
   "source": []
  }
 ],
 "metadata": {
  "kernelspec": {
   "display_name": "Python 3 (ipykernel)",
   "language": "python",
   "name": "python3"
  },
  "language_info": {
   "codemirror_mode": {
    "name": "ipython",
    "version": 3
   },
   "file_extension": ".py",
   "mimetype": "text/x-python",
   "name": "python",
   "nbconvert_exporter": "python",
   "pygments_lexer": "ipython3",
   "version": "3.12.3"
  }
 },
 "nbformat": 4,
 "nbformat_minor": 5
}
