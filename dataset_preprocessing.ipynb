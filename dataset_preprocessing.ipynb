{
 "cells": [
  {
   "cell_type": "code",
   "execution_count": 4,
   "id": "f2766cf0-6184-4030-a0e1-a5e0044c1929",
   "metadata": {},
   "outputs": [],
   "source": [
    "from scipy.spatial import KDTree\n",
    "import pandas as pd\n",
    "import numpy as np\n",
    "import matplotlib.pyplot as plt\n",
    "import seaborn as sns\n",
    "from sklearn.preprocessing import MinMaxScaler\n",
    "from sklearn.preprocessing import LabelEncoder\n",
    "from sklearn.preprocessing import StandardScaler\n",
    "from sklearn.model_selection import train_test_split\n",
    "from sklearn.ensemble import RandomForestRegressor\n",
    "from sklearn.metrics import mean_squared_error, r2_score\n",
    "from sklearn.linear_model import LinearRegression\n",
    "from sklearn.model_selection import GridSearchCV\n",
    "\n"
   ]
  },
  {
   "cell_type": "code",
   "execution_count": 6,
   "id": "f69bf1f9-5ffd-4ca6-a152-b8d9bbff1ef4",
   "metadata": {},
   "outputs": [
    {
     "name": "stdout",
     "output_type": "stream",
     "text": [
      "Warning: NaN or Inf detected in ds2_all_scaled, cleaning...\n"
     ]
    }
   ],
   "source": [
    "# Load datasets\n",
    "dataset1 = pd.read_csv(\"data/workout_fitness_tracker_data.csv\")\n",
    "dataset2 = pd.read_csv(\"data/health_fitness_dataset.csv\")\n",
    "\n",
    "dataset1[\"BMI\"] = dataset1[\"Weight (kg)\"] / ((dataset1[\"Height (cm)\"] / 100) ** 2)\n",
    "\n",
    "# Standardize Gender Labels\n",
    "gender_map = {\"Male\": \"M\", \"Female\": \"F\", \"Other\": \"Other\"}  # Keep \"Other\"\n",
    "dataset1[\"Gender\"] = dataset1[\"Gender\"].map(gender_map)\n",
    "\n",
    "# Rename Dataset 2 columns for consistency\n",
    "dataset2 = dataset2.rename(columns={\n",
    "    \"age\": \"Age\",\n",
    "    \"height_cm\": \"Height (cm)\",\n",
    "    \"weight_kg\": \"Weight (kg)\",\n",
    "    \"resting_heart_rate\": \"Resting Heart Rate (bpm)\",\n",
    "    \"bmi\": \"BMI\",\n",
    "    \"gender\": \"Gender\"\n",
    "})\n",
    "\n",
    "# Define matching features & their weights\n",
    "features = [\"Age\", \"Height (cm)\", \"Weight (kg)\", \"Resting Heart Rate (bpm)\", \"BMI\"]\n",
    "feature_weights = np.array([1, 1, 1, 3, 3])  # More weight for Resting HR & BMI\n",
    "\n",
    "# Separate \"Other\" from gender-based matching\n",
    "gender_groups = [\"M\", \"F\"]\n",
    "merged_dataframes = []\n",
    "\n",
    "for gender in gender_groups:  # Match \"M\" to \"M\" and \"F\" to \"F\"\n",
    "    ds1_filtered = dataset1[dataset1[\"Gender\"] == gender].copy()\n",
    "    ds2_filtered = dataset2[dataset2[\"Gender\"] == gender].copy()\n",
    "\n",
    "    # NEW: Drop rows with missing values in required features\n",
    "    ds1_filtered = ds1_filtered.dropna(subset=features)\n",
    "    ds2_filtered = ds2_filtered.dropna(subset=features)\n",
    "\n",
    "    if ds2_filtered.empty or ds1_filtered.empty:\n",
    "        print(f\"⚠️ No matching users found in Dataset 2 for gender: {gender}\")\n",
    "        continue\n",
    "\n",
    "    # Extract & normalize features\n",
    "    scaler = MinMaxScaler()\n",
    "    ds1_scaled = scaler.fit_transform(ds1_filtered[features]) * feature_weights\n",
    "    ds2_scaled = scaler.transform(ds2_filtered[features]) * feature_weights\n",
    "\n",
    "    # Check and clean NaN or inf values in scaled datasets\n",
    "    if np.any(np.isnan(ds1_scaled)) or np.any(np.isinf(ds1_scaled)):\n",
    "        print(\"Warning: NaN or Inf detected in ds1_scaled, cleaning...\")\n",
    "        ds1_scaled = np.nan_to_num(ds1_scaled, nan=0.0, posinf=0.0, neginf=0.0)\n",
    "        \n",
    "    if np.any(np.isnan(ds2_scaled)) or np.any(np.isinf(ds2_scaled)):\n",
    "        print(\"Warning: NaN or Inf detected in ds2_scaled, cleaning...\")\n",
    "        ds2_scaled = np.nan_to_num(ds2_scaled, nan=0.0, posinf=0.0, neginf=0.0)\n",
    "\n",
    "    # KD-Tree for nearest-neighbor search\n",
    "    kd_tree = KDTree(ds2_scaled)\n",
    "    distances, best_matches = kd_tree.query(ds1_scaled, k=1)\n",
    "\n",
    "    # Merge results\n",
    "    best_match_df = ds2_filtered.iloc[best_matches].reset_index(drop=True)\n",
    "    merged_df = ds1_filtered.reset_index(drop=True).copy()\n",
    "\n",
    "    # Keep Dataset 1 values and add only unique columns from Dataset 2\n",
    "    ds2_unique_cols = [col for col in dataset2.columns if col not in dataset1.columns]\n",
    "    merged_df[ds2_unique_cols] = best_match_df[ds2_unique_cols].values\n",
    "    merged_df[\"Match Distance\"] = distances  # Lower = better match\n",
    "\n",
    "    merged_dataframes.append(merged_df)\n",
    "\n",
    "# Handle \"Other\" separately (match based on closest features, ignoring gender)\n",
    "ds1_other = dataset1[dataset1[\"Gender\"] == \"Other\"].copy()\n",
    "if not ds1_other.empty:\n",
    "    scaler = MinMaxScaler()\n",
    "    ds1_other_scaled = scaler.fit_transform(ds1_other[features]) * feature_weights\n",
    "    ds2_all_scaled = scaler.transform(dataset2[features]) * feature_weights  # Match to all dataset2 users\n",
    "\n",
    "    # Check and clean NaN or inf values in scaled datasets\n",
    "    if np.any(np.isnan(ds1_other_scaled)) or np.any(np.isinf(ds1_other_scaled)):\n",
    "        print(\"Warning: NaN or Inf detected in ds1_other_scaled, cleaning...\")\n",
    "        ds1_other_scaled = np.nan_to_num(ds1_other_scaled, nan=0.0, posinf=0.0, neginf=0.0)\n",
    "        \n",
    "    if np.any(np.isnan(ds2_all_scaled)) or np.any(np.isinf(ds2_all_scaled)):\n",
    "        print(\"Warning: NaN or Inf detected in ds2_all_scaled, cleaning...\")\n",
    "        ds2_all_scaled = np.nan_to_num(ds2_all_scaled, nan=0.0, posinf=0.0, neginf=0.0)\n",
    "\n",
    "    kd_tree = KDTree(ds2_all_scaled)\n",
    "    distances, best_matches = kd_tree.query(ds1_other_scaled, k=1)\n",
    "\n",
    "    best_match_df = dataset2.iloc[best_matches].reset_index(drop=True)\n",
    "    merged_other = ds1_other.reset_index(drop=True).copy()\n",
    "\n",
    "    # Add unique columns from Dataset 2\n",
    "    merged_other[ds2_unique_cols] = best_match_df[ds2_unique_cols].values\n",
    "    merged_other[\"Match Distance\"] = distances  # Lower = better match\n",
    "\n",
    "    merged_dataframes.append(merged_other)\n",
    "\n",
    "# Combine results\n",
    "final_merged_dataset = pd.concat(merged_dataframes, ignore_index=True)\n",
    "\n",
    "# Optionally, save final dataset\n",
    "final_merged_dataset.to_csv(\"merged_dataset.csv\", index=False)\n"
   ]
  },
  {
   "cell_type": "code",
   "execution_count": null,
   "id": "14ad415c-c3f4-4667-b54c-9a4b3921941e",
   "metadata": {},
   "outputs": [],
   "source": []
  },
  {
   "cell_type": "code",
   "execution_count": 7,
   "id": "045cc6a1-aa4b-4085-8961-41c4662a0121",
   "metadata": {},
   "outputs": [
    {
     "name": "stdout",
     "output_type": "stream",
     "text": [
      "Index(['User ID', 'Age', 'Gender', 'Height (cm)', 'Weight (kg)',\n",
      "       'Workout Type', 'Workout Duration (mins)', 'Calories Burned',\n",
      "       'Heart Rate (bpm)', 'Steps Taken', 'Distance (km)', 'Workout Intensity',\n",
      "       'Sleep Hours', 'Water Intake (liters)', 'Daily Calories Intake',\n",
      "       'Resting Heart Rate (bpm)', 'VO2 Max', 'Body Fat (%)',\n",
      "       'Mood Before Workout', 'Mood After Workout', 'BMI', 'participant_id',\n",
      "       'date', 'activity_type', 'duration_minutes', 'intensity',\n",
      "       'calories_burned', 'avg_heart_rate', 'hours_sleep', 'stress_level',\n",
      "       'daily_steps', 'hydration_level', 'blood_pressure_systolic',\n",
      "       'blood_pressure_diastolic', 'health_condition', 'smoking_status',\n",
      "       'fitness_level', 'Match Distance'],\n",
      "      dtype='object')\n"
     ]
    }
   ],
   "source": [
    "print(final_merged_dataset.columns)"
   ]
  },
  {
   "cell_type": "code",
   "execution_count": 8,
   "id": "ea2253a2-ee46-4793-9c0a-28423d3e9ef3",
   "metadata": {},
   "outputs": [
    {
     "name": "stdout",
     "output_type": "stream",
     "text": [
      "Index(['Age', 'Gender', 'Height (cm)', 'Weight (kg)', 'Workout Type',\n",
      "       'Workout Duration (mins)', 'Calories Burned', 'Heart Rate (bpm)',\n",
      "       'Steps Taken', 'Distance (km)', 'Workout Intensity', 'Sleep Hours',\n",
      "       'Water Intake (liters)', 'Daily Calories Intake',\n",
      "       'Resting Heart Rate (bpm)', 'VO2 Max', 'Body Fat (%)',\n",
      "       'Mood Before Workout', 'Mood After Workout', 'BMI', 'stress_level',\n",
      "       'blood_pressure_systolic', 'blood_pressure_diastolic',\n",
      "       'health_condition', 'smoking_status'],\n",
      "      dtype='object')\n"
     ]
    }
   ],
   "source": [
    "\n",
    "final_merged_dataset = final_merged_dataset.drop(columns=['User ID', 'duration_minutes', 'calories_burned', 'avg_heart_rate', \n",
    "                      'daily_steps', 'Match Distance', 'hours_sleep', \n",
    "                      'hydration_level', 'intensity', 'participant_id', 'date', 'activity_type', 'fitness_level'])\n",
    "\n",
    "# Display the updated DataFrame\n",
    "print(final_merged_dataset.columns)"
   ]
  },
  {
   "cell_type": "code",
   "execution_count": 9,
   "id": "7971783d-c803-4547-a42e-8ed04f982190",
   "metadata": {},
   "outputs": [
    {
     "name": "stdout",
     "output_type": "stream",
     "text": [
      "Index(['Age', 'Gender', 'Height (cm)', 'Weight (kg)', 'Workout Type',\n",
      "       'Workout Duration (mins)', 'Calories Burned', 'Heart Rate (bpm)',\n",
      "       'Steps Taken', 'Distance (km)', 'Workout Intensity', 'Sleep Hours',\n",
      "       'Water Intake (liters)', 'Daily Calories Intake',\n",
      "       'Resting Heart Rate (bpm)', 'VO2 Max', 'Body Fat (%)',\n",
      "       'Mood Before Workout', 'Mood After Workout', 'BMI', 'Stress Level',\n",
      "       'Blood Pressure Systolic', 'Blood Pressure Diastolic',\n",
      "       'Health Condition', 'Smoking Status'],\n",
      "      dtype='object')\n"
     ]
    }
   ],
   "source": [
    "final_merged_dataset.rename(columns={\n",
    "    'stress_level': 'Stress Level',\n",
    "    'blood_pressure_systolic': 'Blood Pressure Systolic',\n",
    "    'blood_pressure_diastolic': 'Blood Pressure Diastolic',\n",
    "    'health_condition': 'Health Condition',\n",
    "    'smoking_status': 'Smoking Status'\n",
    "}, inplace=True)\n",
    "\n",
    "# Display the updated DataFrame\n",
    "print(final_merged_dataset.columns)"
   ]
  },
  {
   "cell_type": "code",
   "execution_count": 10,
   "id": "9dd3a09a-88ad-49f1-ba88-93c000d727f8",
   "metadata": {},
   "outputs": [
    {
     "name": "stdout",
     "output_type": "stream",
     "text": [
      "Age                           int64\n",
      "Gender                       object\n",
      "Height (cm)                   int64\n",
      "Weight (kg)                   int64\n",
      "Workout Type                 object\n",
      "Workout Duration (mins)       int64\n",
      "Calories Burned               int64\n",
      "Heart Rate (bpm)              int64\n",
      "Steps Taken                   int64\n",
      "Distance (km)               float64\n",
      "Workout Intensity            object\n",
      "Sleep Hours                 float64\n",
      "Water Intake (liters)       float64\n",
      "Daily Calories Intake         int64\n",
      "Resting Heart Rate (bpm)      int64\n",
      "VO2 Max                     float64\n",
      "Body Fat (%)                float64\n",
      "Mood Before Workout          object\n",
      "Mood After Workout           object\n",
      "BMI                         float64\n",
      "Stress Level                 object\n",
      "Blood Pressure Systolic      object\n",
      "Blood Pressure Diastolic     object\n",
      "Health Condition             object\n",
      "Smoking Status               object\n",
      "dtype: object\n"
     ]
    }
   ],
   "source": [
    "print(final_merged_dataset.dtypes)"
   ]
  },
  {
   "cell_type": "code",
   "execution_count": 11,
   "id": "cc8a1565-697e-447c-8e63-6ea90e30d19c",
   "metadata": {},
   "outputs": [
    {
     "name": "stdout",
     "output_type": "stream",
     "text": [
      "Age                            0\n",
      "Gender                         0\n",
      "Height (cm)                    0\n",
      "Weight (kg)                    0\n",
      "Workout Type                   0\n",
      "Workout Duration (mins)        0\n",
      "Calories Burned                0\n",
      "Heart Rate (bpm)               0\n",
      "Steps Taken                    0\n",
      "Distance (km)                  0\n",
      "Workout Intensity              0\n",
      "Sleep Hours                    0\n",
      "Water Intake (liters)          0\n",
      "Daily Calories Intake          0\n",
      "Resting Heart Rate (bpm)       0\n",
      "VO2 Max                        0\n",
      "Body Fat (%)                   0\n",
      "Mood Before Workout            0\n",
      "Mood After Workout             0\n",
      "BMI                            0\n",
      "Stress Level                   0\n",
      "Blood Pressure Systolic       15\n",
      "Blood Pressure Diastolic      15\n",
      "Health Condition            7789\n",
      "Smoking Status                15\n",
      "dtype: int64\n"
     ]
    }
   ],
   "source": [
    "print(final_merged_dataset.isnull().sum())"
   ]
  },
  {
   "cell_type": "code",
   "execution_count": 12,
   "id": "2ad0b4b4-942f-4e01-b01d-564730b2ff57",
   "metadata": {},
   "outputs": [
    {
     "name": "stdout",
     "output_type": "stream",
     "text": [
      "Age                          0\n",
      "Gender                       0\n",
      "Height (cm)                  0\n",
      "Weight (kg)                  0\n",
      "Workout Type                 0\n",
      "Workout Duration (mins)      0\n",
      "Calories Burned              0\n",
      "Heart Rate (bpm)             0\n",
      "Steps Taken                  0\n",
      "Distance (km)                0\n",
      "Workout Intensity            0\n",
      "Sleep Hours                  0\n",
      "Water Intake (liters)        0\n",
      "Daily Calories Intake        0\n",
      "Resting Heart Rate (bpm)     0\n",
      "VO2 Max                      0\n",
      "Body Fat (%)                 0\n",
      "Mood Before Workout          0\n",
      "Mood After Workout           0\n",
      "BMI                          0\n",
      "Stress Level                 0\n",
      "Blood Pressure Systolic     15\n",
      "Blood Pressure Diastolic    15\n",
      "Health Condition             0\n",
      "Smoking Status              15\n",
      "dtype: int64\n"
     ]
    }
   ],
   "source": [
    "# Mbush vlerat që mungojnë në kolonën 'Health Condition' me \"Not Specified\"\n",
    "final_merged_dataset[\"Health Condition\"] = final_merged_dataset[\"Health Condition\"].fillna(\"Not Specified\")\n",
    "\n",
    "print(final_merged_dataset.isnull().sum())"
   ]
  },
  {
   "cell_type": "code",
   "execution_count": 13,
   "id": "8b3d3485-8176-406c-8281-f179dd81dd3f",
   "metadata": {},
   "outputs": [
    {
     "data": {
      "image/png": "[encoded data removed]",
      "text/plain": [
       "<Figure size 2000x1500 with 15 Axes>"
      ]
     },
     "metadata": {},
     "output_type": "display_data"
    }
   ],
   "source": [
    "# Sigurohu që final_merged_dataset është i definuar dhe përmban të dhënat tuaja\n",
    "# Krijo listën e kolonave numerike\n",
    "numerical_cols = final_merged_dataset.select_dtypes(include=['number']).columns\n",
    "\n",
    "# Boxplot për të parë shpërndarjen dhe outliers me grid më të madh (5x5)\n",
    "plt.figure(figsize=(20, 15))  # Zgjedhje e madhësisë së figurës\n",
    "\n",
    "for i, column in enumerate(numerical_cols, 1):\n",
    "    plt.subplot(5, 5, i)  # Përdorimi i një gridi 5x5\n",
    "    sns.boxplot(data=final_merged_dataset, x=column)\n",
    "    plt.title(f'Boxplot for {column}')\n",
    "\n",
    "plt.tight_layout()  # Sigurohet që të gjitha figurat të shfaqen pa mbivendosje\n",
    "plt.show()"
   ]
  },
  {
   "cell_type": "code",
   "execution_count": 14,
   "id": "87adbd73-dc43-4d36-80ce-e25bb1d33d55",
   "metadata": {},
   "outputs": [],
   "source": [
    "final_merged_dataset = final_merged_dataset.drop(columns=[\"Water Intake (liters)\", \"Body Fat (%)\", \"VO2 Max\"])\n",
    "\n",
    "# Funksioni për të larguar outliers duke përdorur IQR\n",
    "def remove_outliers_iqr(df, col):\n",
    "    Q1 = df[col].quantile(0.25)\n",
    "    Q3 = df[col].quantile(0.75)\n",
    "    IQR = Q3 - Q1\n",
    "    lower_bound = Q1 - 1.5 * IQR\n",
    "    upper_bound = Q3 + 1.5 * IQR\n",
    "    # Filtrimi i të dhënave brenda kufijve të IQR-së\n",
    "    return df[(df[col] >= lower_bound) & (df[col] <= upper_bound)]\n",
    "\n",
    "# Largimi i outliers për kolona specifike\n",
    "final_merged_dataset = remove_outliers_iqr(final_merged_dataset, \"BMI\")\n",
    "final_merged_dataset = remove_outliers_iqr(final_merged_dataset, \"Blood Pressure Systolic\")\n",
    "final_merged_dataset = remove_outliers_iqr(final_merged_dataset, \"Blood Pressure Diastolic\")"
   ]
  },
  {
   "cell_type": "code",
   "execution_count": 15,
   "id": "6c6e68fe-c3ae-4c68-ad46-bd7b8fe6fc9b",
   "metadata": {},
   "outputs": [
    {
     "data": {
      "image/png": "[encoded data removed]",
      "text/plain": [
       "<Figure size 1500x1000 with 3 Axes>"
      ]
     },
     "metadata": {},
     "output_type": "display_data"
    }
   ],
   "source": [
    "# Cakto kolonat që do të shfaqen\n",
    "cols_to_plot = [\"BMI\", \"Blood Pressure Systolic\", \"Blood Pressure Diastolic\"]\n",
    "\n",
    "# Boxplot për secilën kolone\n",
    "plt.figure(figsize=(15, 10))\n",
    "for i, column in enumerate(cols_to_plot, 1):\n",
    "    plt.subplot(2, 3, i)  # Grid 2x3 për 3 kolona\n",
    "    sns.boxplot(data=final_merged_dataset, x=column)\n",
    "    plt.title(f'Boxplot for {column}')\n",
    "    plt.tight_layout()\n",
    "\n",
    "plt.show()"
   ]
  },
  {
   "cell_type": "code",
   "execution_count": 16,
   "id": "827c337d-1fa2-4bbf-ac20-65fd7b3ce874",
   "metadata": {},
   "outputs": [
    {
     "name": "stdout",
     "output_type": "stream",
     "text": [
      "   Age  Gender  Height (cm)  Weight (kg)  Workout Duration (mins)  \\\n",
      "0   39       1          175           99                       79   \n",
      "1   56       1          154           89                       39   \n",
      "2   33       1          162           81                       11   \n",
      "3   59       1          189           61                       83   \n",
      "4   38       1          178           71                       83   \n",
      "\n",
      "   Calories Burned  Heart Rate (bpm)  Steps Taken  Distance (km)  Sleep Hours  \\\n",
      "0              384               112         8850          14.44          8.2   \n",
      "1              672               118        14102           6.55          5.8   \n",
      "2              301               142        10895           6.53          4.2   \n",
      "3              518               159        11234           7.64          8.8   \n",
      "4              664                98         8098          11.26          8.5   \n",
      "\n",
      "   ...  Blood Pressure Diastolic  Health Condition  Smoking Status  \\\n",
      "0  ...                      80.9                 3               0   \n",
      "1  ...                      73.1                 0               2   \n",
      "2  ...                      80.7                 3               0   \n",
      "3  ...                      70.8                 1               2   \n",
      "4  ...                      72.7                 3               2   \n",
      "\n",
      "   Workout Type_Cycling  Workout Type_HIIT Workout Type_Running  \\\n",
      "0                  True              False                False   \n",
      "1                  True              False                False   \n",
      "2                 False              False                False   \n",
      "3                 False              False                False   \n",
      "4                 False              False                 True   \n",
      "\n",
      "  Workout Type_Strength Workout Type_Yoga  Workout Intensity_Low  \\\n",
      "0                 False             False                  False   \n",
      "1                 False             False                  False   \n",
      "2                 False              True                   True   \n",
      "3                  True             False                  False   \n",
      "4                 False             False                  False   \n",
      "\n",
      "   Workout Intensity_Medium  \n",
      "0                     False  \n",
      "1                      True  \n",
      "2                     False  \n",
      "3                      True  \n",
      "4                     False  \n",
      "\n",
      "[5 rows x 27 columns]\n"
     ]
    }
   ],
   "source": [
    "# Definimi i kolonave që do të kodohen\n",
    "label_encode_cols = [\"Mood Before Workout\", \"Mood After Workout\", \"Smoking Status\", \"Health Condition\", \"Gender\"]\n",
    "one_hot_encode_cols = [\"Workout Type\", \"Workout Intensity\"]\n",
    "\n",
    "# Aplikimi i Label Encoding\n",
    "label_encoder = LabelEncoder()\n",
    "for col in label_encode_cols:\n",
    "    final_merged_dataset[col] = label_encoder.fit_transform(final_merged_dataset[col])\n",
    "\n",
    "# Aplikimi i One-Hot Encoding\n",
    "final_merged_dataset = pd.get_dummies(final_merged_dataset, columns=one_hot_encode_cols, drop_first=True)\n",
    "\n",
    "# Shfaq disa rreshta për të parë rezultatin\n",
    "print(final_merged_dataset.head())"
   ]
  },
  {
   "cell_type": "code",
   "execution_count": 17,
   "id": "efe75c92-938d-48a6-8f3c-fd92b6859b48",
   "metadata": {},
   "outputs": [
    {
     "name": "stdout",
     "output_type": "stream",
     "text": [
      "Daily Calories Intake       0.012257\n",
      "Distance (km)               0.011788\n",
      "Workout Type_Yoga           0.010699\n",
      "Smoking Status              0.009603\n",
      "Age                         0.008892\n",
      "Gender                      0.005803\n",
      "Workout Type_Cycling        0.004342\n",
      "Steps Taken                 0.004113\n",
      "Resting Heart Rate (bpm)    0.003096\n",
      "Workout Intensity_Low       0.001453\n",
      "Mood After Workout          0.000169\n",
      "Sleep Hours                -0.000295\n",
      "Workout Type_Strength      -0.001685\n",
      "Blood Pressure Diastolic   -0.001949\n",
      "Workout Type_HIIT          -0.002165\n",
      "Mood Before Workout        -0.004952\n",
      "Workout Type_Running       -0.005041\n",
      "Height (cm)                -0.009757\n",
      "Workout Intensity_Medium   -0.011224\n",
      "Blood Pressure Systolic    -0.011921\n",
      "BMI                        -0.012006\n",
      "Workout Duration (mins)    -0.012021\n",
      "Health Condition           -0.012077\n",
      "Heart Rate (bpm)           -0.012929\n",
      "Stress Level               -0.020094\n",
      "Weight (kg)                -0.023814\n",
      "Name: Calories Burned, dtype: float64\n"
     ]
    }
   ],
   "source": [
    "# Korelacioni i kolonave me BMI\n",
    "correlation_with_bmi = final_merged_dataset.corr()['Calories Burned'].drop('Calories Burned').sort_values(ascending=False)\n",
    "print(correlation_with_bmi)"
   ]
  },
  {
   "cell_type": "code",
   "execution_count": 18,
   "id": "205240ae-83d3-4f5c-a0db-6ca958f51730",
   "metadata": {},
   "outputs": [
    {
     "name": "stdout",
     "output_type": "stream",
     "text": [
      "<class 'pandas.core.frame.DataFrame'>\n",
      "Index: 9431 entries, 0 to 9999\n",
      "Data columns (total 27 columns):\n",
      " #   Column                    Non-Null Count  Dtype  \n",
      "---  ------                    --------------  -----  \n",
      " 0   Age                       9431 non-null   int64  \n",
      " 1   Gender                    9431 non-null   int64  \n",
      " 2   Height (cm)               9431 non-null   int64  \n",
      " 3   Weight (kg)               9431 non-null   int64  \n",
      " 4   Workout Duration (mins)   9431 non-null   int64  \n",
      " 5   Calories Burned           9431 non-null   int64  \n",
      " 6   Heart Rate (bpm)          9431 non-null   int64  \n",
      " 7   Steps Taken               9431 non-null   int64  \n",
      " 8   Distance (km)             9431 non-null   float64\n",
      " 9   Sleep Hours               9431 non-null   float64\n",
      " 10  Daily Calories Intake     9431 non-null   int64  \n",
      " 11  Resting Heart Rate (bpm)  9431 non-null   int64  \n",
      " 12  Mood Before Workout       9431 non-null   int64  \n",
      " 13  Mood After Workout        9431 non-null   int64  \n",
      " 14  BMI                       9431 non-null   float64\n",
      " 15  Stress Level              9431 non-null   object \n",
      " 16  Blood Pressure Systolic   9431 non-null   object \n",
      " 17  Blood Pressure Diastolic  9431 non-null   object \n",
      " 18  Health Condition          9431 non-null   int64  \n",
      " 19  Smoking Status            9431 non-null   int64  \n",
      " 20  Workout Type_Cycling      9431 non-null   bool   \n",
      " 21  Workout Type_HIIT         9431 non-null   bool   \n",
      " 22  Workout Type_Running      9431 non-null   bool   \n",
      " 23  Workout Type_Strength     9431 non-null   bool   \n",
      " 24  Workout Type_Yoga         9431 non-null   bool   \n",
      " 25  Workout Intensity_Low     9431 non-null   bool   \n",
      " 26  Workout Intensity_Medium  9431 non-null   bool   \n",
      "dtypes: bool(7), float64(3), int64(14), object(3)\n",
      "memory usage: 1.6+ MB\n",
      "None\n",
      "Variablat për trajnimin:\n",
      "Index(['Age', 'Gender', 'Height (cm)', 'Weight (kg)',\n",
      "       'Workout Duration (mins)', 'Heart Rate (bpm)', 'Steps Taken',\n",
      "       'Distance (km)', 'Sleep Hours', 'Daily Calories Intake',\n",
      "       'Resting Heart Rate (bpm)', 'Mood Before Workout', 'Mood After Workout',\n",
      "       'BMI', 'Stress Level', 'Blood Pressure Systolic',\n",
      "       'Blood Pressure Diastolic', 'Health Condition', 'Smoking Status',\n",
      "       'Workout Type_Cycling', 'Workout Type_HIIT', 'Workout Type_Running',\n",
      "       'Workout Type_Strength', 'Workout Type_Yoga', 'Workout Intensity_Low',\n",
      "       'Workout Intensity_Medium'],\n",
      "      dtype='object')\n",
      "   Age  Gender  Height (cm)  Weight (kg)  Workout Duration (mins)  \\\n",
      "0   39       1          175           99                       79   \n",
      "1   56       1          154           89                       39   \n",
      "2   33       1          162           81                       11   \n",
      "3   59       1          189           61                       83   \n",
      "4   38       1          178           71                       83   \n",
      "\n",
      "   Heart Rate (bpm)  Steps Taken  Distance (km)  Sleep Hours  \\\n",
      "0               112         8850          14.44          8.2   \n",
      "1               118        14102           6.55          5.8   \n",
      "2               142        10895           6.53          4.2   \n",
      "3               159        11234           7.64          8.8   \n",
      "4                98         8098          11.26          8.5   \n",
      "\n",
      "   Daily Calories Intake  ...  Blood Pressure Diastolic  Health Condition  \\\n",
      "0                   3195  ...                      80.9                 3   \n",
      "1                   2071  ...                      73.1                 0   \n",
      "2                   2401  ...                      80.7                 3   \n",
      "3                   2654  ...                      70.8                 1   \n",
      "4                   2253  ...                      72.7                 3   \n",
      "\n",
      "   Smoking Status  Workout Type_Cycling Workout Type_HIIT  \\\n",
      "0               0                  True             False   \n",
      "1               2                  True             False   \n",
      "2               0                 False             False   \n",
      "3               2                 False             False   \n",
      "4               2                 False             False   \n",
      "\n",
      "  Workout Type_Running Workout Type_Strength  Workout Type_Yoga  \\\n",
      "0                False                 False              False   \n",
      "1                False                 False              False   \n",
      "2                False                 False               True   \n",
      "3                False                  True              False   \n",
      "4                 True                 False              False   \n",
      "\n",
      "   Workout Intensity_Low  Workout Intensity_Medium  \n",
      "0                  False                     False  \n",
      "1                  False                      True  \n",
      "2                   True                     False  \n",
      "3                  False                      True  \n",
      "4                  False                     False  \n",
      "\n",
      "[5 rows x 26 columns]\n"
     ]
    }
   ],
   "source": [
    "# Shfaqim disa informacione mbi datasetin për të parë kolonat\n",
    "print(final_merged_dataset.info())\n",
    "\n",
    "# Përcaktojmë variablat për trajnimin:\n",
    "# Target variable (etiketa) është \"Calories Burned\"\n",
    "target = 'Calories Burned'\n",
    "\n",
    "# Funksionet (features) janë të gjitha kolonat përveç target\n",
    "features = final_merged_dataset.drop(columns=[target])\n",
    "\n",
    "# Kontrollojmë për të siguruar se kemi selektuar siç duhet variablat\n",
    "print(\"Variablat për trajnimin:\")\n",
    "print(features.columns)\n",
    "\n",
    "# Shfaqim disa të dhëna për të parë se si duket dataset-i përpara trajnimit\n",
    "print(features.head())"
   ]
  },
  {
   "cell_type": "code",
   "execution_count": 19,
   "id": "8e8d4b0c-1628-45e1-9ab2-44f8d6817088",
   "metadata": {},
   "outputs": [
    {
     "name": "stdout",
     "output_type": "stream",
     "text": [
      "        Age  Gender  Height (cm)  Weight (kg)  Workout Duration (mins)  \\\n",
      "0  0.043654       1     0.095229     0.695523                 0.458432   \n",
      "1  1.439819       1    -1.368952     0.193761                -0.796002   \n",
      "2 -0.449110       1    -0.811169    -0.207648                -1.674106   \n",
      "3  1.686201       1     1.071349    -1.211170                 0.583875   \n",
      "4 -0.038473       1     0.304397    -0.709409                 0.583875   \n",
      "\n",
      "   Calories Burned  Heart Rate (bpm)  Steps Taken  Distance (km)  Sleep Hours  \\\n",
      "0              384         -0.608477    -0.291247       1.593874     0.713620   \n",
      "1              672         -0.400968     0.667343      -0.304740    -0.691911   \n",
      "2              301          0.429066     0.082005      -0.309553    -1.628932   \n",
      "3              518          1.017007     0.143879      -0.042448     1.065003   \n",
      "4              664         -1.092663    -0.428501       0.828653     0.889312   \n",
      "\n",
      "   ...  Blood Pressure Diastolic  Health Condition  Smoking Status  \\\n",
      "0  ...                  0.569649                 3               0   \n",
      "1  ...                 -0.583120                 0               2   \n",
      "2  ...                  0.540091                 3               0   \n",
      "3  ...                 -0.923039                 1               2   \n",
      "4  ...                 -0.642236                 3               2   \n",
      "\n",
      "   Workout Type_Cycling  Workout Type_HIIT  Workout Type_Running  \\\n",
      "0                  True              False                 False   \n",
      "1                  True              False                 False   \n",
      "2                 False              False                 False   \n",
      "3                 False              False                 False   \n",
      "4                 False              False                  True   \n",
      "\n",
      "   Workout Type_Strength  Workout Type_Yoga  Workout Intensity_Low  \\\n",
      "0                  False              False                  False   \n",
      "1                  False              False                  False   \n",
      "2                  False               True                   True   \n",
      "3                   True              False                  False   \n",
      "4                  False              False                  False   \n",
      "\n",
      "   Workout Intensity_Medium  \n",
      "0                     False  \n",
      "1                      True  \n",
      "2                     False  \n",
      "3                      True  \n",
      "4                     False  \n",
      "\n",
      "[5 rows x 27 columns]\n"
     ]
    }
   ],
   "source": [
    "# Përcaktojmë variablat numerikë që do të normalizohen\n",
    "numerical_features = [\n",
    "    'Age', 'Height (cm)', 'Weight (kg)', 'Workout Duration (mins)', 'Heart Rate (bpm)', 'Steps Taken', 'Distance (km)', \n",
    "    'Sleep Hours', 'Daily Calories Intake', 'Resting Heart Rate (bpm)', \n",
    "    'BMI', 'Stress Level', 'Blood Pressure Systolic', 'Blood Pressure Diastolic'\n",
    "]\n",
    "\n",
    "# Inicializoni StandardScaler\n",
    "scaler = StandardScaler()\n",
    "\n",
    "# Aplikoni standardizimin në të dhënat numerike\n",
    "final_merged_dataset[numerical_features] = scaler.fit_transform(final_merged_dataset[numerical_features])\n",
    "\n",
    "# Shfaqim disa të dhëna pas standardizimit për të parë ndryshimet\n",
    "print(final_merged_dataset.head())"
   ]
  },
  {
   "cell_type": "code",
   "execution_count": 20,
   "id": "9415de90-0ec4-4a35-bd1b-09329eba6e63",
   "metadata": {},
   "outputs": [
    {
     "name": "stdout",
     "output_type": "stream",
     "text": [
      "Traning set dimensions: (7544, 26)\n",
      "Test set dimensions: (1887, 26)\n"
     ]
    }
   ],
   "source": [
    "# Përcaktoni variablat për trajnimin dhe targetin\n",
    "X = final_merged_dataset.drop(columns=['Calories Burned'])  # Variablat për trajnimin\n",
    "y = final_merged_dataset['Calories Burned']  # Target variable\n",
    "\n",
    "# Përdorim train_test_split për të ndarë datasetin në 80% për trajnimin dhe 20% për testimin\n",
    "X_train, X_test, y_train, y_test = train_test_split(X, y, test_size=0.2, random_state=42)\n",
    "\n",
    "# Shfaqim dimensionet e seteve të ndara\n",
    "print(f\"Traning set dimensions: {X_train.shape}\")\n",
    "print(f\"Test set dimensions: {X_test.shape}\")"
   ]
  },
  {
   "cell_type": "code",
   "execution_count": 21,
   "id": "bc2b4e3a-e403-4461-bd09-201be937b1b7",
   "metadata": {},
   "outputs": [],
   "source": [
    "# Save final dataset\n",
    "final_merged_dataset.to_csv(\"processed_dataset.csv\", index=False)\n"
   ]
  },
  {
   "cell_type": "code",
   "execution_count": 29,
   "id": "484845db-317a-4706-a9bb-efa1678ff968",
   "metadata": {},
   "outputs": [],
   "source": [
    "import pandas as pd\n",
    "import matplotlib.pyplot as plt\n",
    "import seaborn as sns\n",
    "from sklearn.model_selection import train_test_split\n",
    "from sklearn.metrics import mean_squared_error, mean_absolute_error, r2_score\n",
    "from sklearn.linear_model import LinearRegression, Ridge, Lasso\n",
    "from sklearn.ensemble import RandomForestRegressor, GradientBoostingRegressor\n",
    "from sklearn.tree import DecisionTreeRegressor\n",
    "from sklearn.svm import SVR\n",
    "from xgboost import XGBRegressor"
   ]
  },
  {
   "cell_type": "code",
   "execution_count": 30,
   "id": "c92dee8a-0b9d-4257-92e2-005581b5d05c",
   "metadata": {},
   "outputs": [],
   "source": [
    "# Load the processed dataset\n",
    "data = pd.read_csv(\"processed_dataset.csv\")\n",
    "X = data.drop(columns=['Calories Burned'])\n",
    "y = data['Calories Burned']\n",
    "X_train, X_test, y_train, y_test = train_test_split(X, y, test_size=0.2, random_state=42)"
   ]
  },
  {
   "cell_type": "code",
   "execution_count": 31,
   "id": "c7bfdc2f-54cf-461e-86d5-09a1d22727a6",
   "metadata": {},
   "outputs": [],
   "source": [
    "\n",
    "# Define models\n",
    "models = {\n",
    "    \"Linear Regression\": LinearRegression(),\n",
    "    \"Ridge Regression\": Ridge(),\n",
    "    \"Lasso Regression\": Lasso(),\n",
    "    \"Decision Tree\": DecisionTreeRegressor(),\n",
    "    \"Random Forest\": RandomForestRegressor(),\n",
    "    \"Gradient Boosting\": GradientBoostingRegressor(),\n",
    "    \"Support Vector Regressor\": SVR(),\n",
    "    \"XGBoost\": XGBRegressor()\n",
    "}"
   ]
  },
  {
   "cell_type": "code",
   "execution_count": 32,
   "id": "51d43430-d233-48b0-baa9-c07c430eead9",
   "metadata": {},
   "outputs": [],
   "source": [
    "# Train models and store results\n",
    "results = {}\n",
    "predictions = {}\n",
    "\n",
    "for name, model in models.items():\n",
    "    model.fit(X_train, y_train)\n",
    "    preds = model.predict(X_test)\n",
    "    predictions[name] = preds\n",
    "    results[name] = {\n",
    "        \"MSE\": mean_squared_error(y_test, preds),\n",
    "        \"MAE\": mean_absolute_error(y_test, preds),\n",
    "        \"R2\": r2_score(y_test, preds)\n",
    "    }"
   ]
  },
  {
   "cell_type": "code",
   "execution_count": 33,
   "id": "465f7064-fdf2-47c2-99b5-72fa2a5d0b57",
   "metadata": {},
   "outputs": [],
   "source": [
    "# Convert results to DataFrame\n",
    "results_df = pd.DataFrame(results).T.sort_values(by=\"R2\", ascending=False)\n",
    "\n",
    "# Save results to CSV for reference\n",
    "results_df.to_csv(\"model_performance_metrics.csv\")"
   ]
  },
  {
   "cell_type": "code",
   "execution_count": 34,
   "id": "34c95a26-ef7b-4587-a96b-f4eeb6a0e9c4",
   "metadata": {},
   "outputs": [],
   "source": [
    "# Set up plotting style\n",
    "sns.set(style=\"whitegrid\")\n",
    "plt.rcParams.update({'font.size': 12})"
   ]
  },
  {
   "cell_type": "code",
   "execution_count": 38,
   "id": "3d61d73f-cf91-4dce-bafd-973d0e7a9318",
   "metadata": {},
   "outputs": [],
   "source": [
    "# 1. Bar Plots for MSE, MAE, R2\n",
    "fig, axes = plt.subplots(3, 1, figsize=(12, 18))\n",
    "\n",
    "# MSE Bar Plot\n",
    "sns.barplot(x=results_df.index, y=results_df['MSE'], ax=axes[0], palette='Blues_d', hue=results_df.index)\n",
    "axes[0].set_title('Mean Squared Error (MSE) by Model')\n",
    "axes[0].set_ylabel('MSE')\n",
    "axes[0].tick_params(axis='x', rotation=45)\n",
    "\n",
    "# MAE Bar Plot\n",
    "sns.barplot(x=results_df.index, y=results_df['MAE'], ax=axes[1], palette='Greens_d', hue=results_df.index)\n",
    "axes[1].set_title('Mean Absolute Error (MAE) by Model')\n",
    "axes[1].set_ylabel('MAE')\n",
    "axes[1].tick_params(axis='x', rotation=45)\n",
    "\n",
    "# R2 Bar Plot\n",
    "sns.barplot(x=results_df.index, y=results_df['R2'], ax=axes[2], palette='Reds_d', hue=results_df.index)\n",
    "axes[2].set_title('R² Score by Model')\n",
    "axes[2].set_ylabel('R²')\n",
    "axes[2].tick_params(axis='x', rotation=45)\n",
    "\n",
    "plt.tight_layout()\n",
    "plt.savefig('model_performance_bar_plots.png')\n",
    "plt.close()\n"
   ]
  },
  {
   "cell_type": "code",
   "execution_count": 39,
   "id": "6efa9f34-82fc-4f2c-8325-127548c0b528",
   "metadata": {},
   "outputs": [],
   "source": [
    "# 2. Scatter Plots for Actual vs Predicted Values\n",
    "fig, axes = plt.subplots(4, 2, figsize=(15, 20))\n",
    "axes = axes.ravel()\n",
    "\n",
    "for idx, (name, preds) in enumerate(predictions.items()):\n",
    "    axes[idx].scatter(y_test, preds, alpha=0.5, color='blue')\n",
    "    axes[idx].plot([y_test.min(), y_test.max()], [y_test.min(), y_test.max()], 'r--', lw=2)\n",
    "    axes[idx].set_title(f'{name}: Actual vs Predicted')\n",
    "    axes[idx].set_xlabel('Actual Calories Burned')\n",
    "    axes[idx].set_ylabel('Predicted Calories Burned')\n",
    "\n",
    "plt.tight_layout()\n",
    "plt.savefig('actual_vs_predicted_scatter_plots.png')\n",
    "plt.close()"
   ]
  },
  {
   "cell_type": "code",
   "execution_count": null,
   "id": "680dcfcd-5685-45f6-97ee-01975315a93a",
   "metadata": {},
   "outputs": [],
   "source": []
  },
  {
   "cell_type": "code",
   "execution_count": null,
   "id": "547b6339-e775-4c50-a428-0dea3424ab50",
   "metadata": {},
   "outputs": [],
   "source": []
  },
  {
   "cell_type": "code",
   "execution_count": null,
   "id": "31404e46-1bae-4a83-9a7b-4d22d3cb9b11",
   "metadata": {},
   "outputs": [],
   "source": []
  },
  {
   "cell_type": "code",
   "execution_count": null,
   "id": "a6161e69-861c-4d8e-b8fc-019bfacd4140",
   "metadata": {},
   "outputs": [],
   "source": []
  },
  {
   "cell_type": "code",
   "execution_count": null,
   "id": "f25a9cce-4baf-4563-a608-04ddb3db3e8a",
   "metadata": {},
   "outputs": [],
   "source": []
  }
 ],
 "metadata": {
  "kernelspec": {
   "display_name": "Python (Updated)",
   "language": "python",
   "name": "myenv"
  },
  "language_info": {
   "codemirror_mode": {
    "name": "ipython",
    "version": 3
   },
   "file_extension": ".py",
   "mimetype": "text/x-python",
   "name": "python",
   "nbconvert_exporter": "python",
   "pygments_lexer": "ipython3",
   "version": "3.10.12"
  }
 },
 "nbformat": 4,
 "nbformat_minor": 5
}
